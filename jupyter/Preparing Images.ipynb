{
 "cells": [
  {
   "cell_type": "markdown",
   "source": [],
   "metadata": {
    "collapsed": false
   }
  },
  {
   "cell_type": "code",
   "execution_count": 18,
   "outputs": [],
   "source": [
    "import cv2"
   ],
   "metadata": {
    "collapsed": false
   }
  },
  {
   "cell_type": "code",
   "execution_count": 1,
   "outputs": [],
   "source": [
    "\n",
    "old_dir = 'Original Images/'\n",
    "new_dir = 'Compressed Images/'\n",
    "paths = ['cheese_board.jpg', 'chicken_n_beans.jpg', 'octopus.jpg', 'tea_eggs.jpg', 'persimmon_tomato_salad.jpg']\n",
    "for path in paths:\n",
    "    img = cv2.imread(old_dir + path, cv2.IMREAD_COLOR)\n",
    "\n",
    "    # Resize the image to 400x300 pixels\n",
    "    img_resized = cv2.resize(img, (200, 150), interpolation=cv2.INTER_AREA)\n",
    "\n",
    "    # Convert the resized image to grayscale\n",
    "    img_gray = cv2.cvtColor(img_resized, cv2.COLOR_RGB2GRAY)\n",
    "\n",
    "    # Save the grayscale image as 'small_gray_dinner.png'\n",
    "    cv2.imwrite(new_dir + path, img_gray)"
   ],
   "metadata": {
    "collapsed": false
   }
  },
  {
   "cell_type": "code",
   "execution_count": 3,
   "outputs": [],
   "source": [
    "old_dir = 'Original Images/'\n",
    "new_dir = 'Compressed Images/'\n",
    "paths = ['easter_egg_bread.jpg', 'burger.jpg', 'granita.jpg', 'pizzelle.jpg', 'pork_knuckle.jpg']\n",
    "for path in paths:\n",
    "    img = cv2.imread(old_dir + path, cv2.IMREAD_COLOR)\n",
    "\n",
    "    # Resize the image to 200x150 pixels\n",
    "    img_resized = cv2.resize(img, (200, 150), interpolation=cv2.INTER_AREA)\n",
    "\n",
    "    # Convert the resized image to grayscale\n",
    "    img_gray = cv2.cvtColor(img_resized, cv2.COLOR_RGB2GRAY)\n",
    "\n",
    "    # Save the grayscale image as 'small_gray_dinner.png'\n",
    "    cv2.imwrite(new_dir + path, img_gray)"
   ],
   "metadata": {
    "collapsed": false
   }
  },
  {
   "cell_type": "code",
   "execution_count": 9,
   "outputs": [],
   "source": [
    "import pandas as pd\n",
    "\n",
    "df = pd.DataFrame(columns=['Reconstructed Path', 'Original Path', 'Corrupted Path', 'Partial or Full',  'Run Time', 'Run Time (learning)', 'Run Time (reconstruction)', 'RMSE', 'PSNR', 'SSIM', 'Luminance Dist.', 'Contrast Dist.', 'Structural Comp.', 'RMSE Gain', 'PSNR Gain', 'SSIM Gain', 'Luminance Dist. Gain', 'Contrast Dist. Gain', 'Structural Comp. Gain',  'param: K', 'param: N', 'param: Iters', 'param: L', 'param: other'])\n",
    "df.loc[0] = {}\n",
    "df.to_csv('EVALUATION_METRICS.csv')"
   ],
   "metadata": {
    "collapsed": false
   }
  },
  {
   "cell_type": "code",
   "execution_count": 11,
   "outputs": [
    {
     "data": {
      "text/plain": "True"
     },
     "execution_count": 11,
     "metadata": {},
     "output_type": "execute_result"
    }
   ],
   "source": [
    "old_dir = 'Original Images/'\n",
    "new_dir = 'Compressed Images/'\n",
    "path = \"small_dinner.jpg\"\n",
    "img = cv2.imread(old_dir + path, cv2.IMREAD_COLOR)\n",
    "\n",
    "# Resize the image to 200x150 pixels\n",
    "img_resized = cv2.resize(img, (200, 150), interpolation=cv2.INTER_AREA)\n",
    "\n",
    "# Convert the resized image to grayscale\n",
    "img_gray = cv2.cvtColor(img_resized, cv2.COLOR_RGB2GRAY)\n",
    "\n",
    "# Save the grayscale image as 'small_gray_dinner.png'\n",
    "cv2.imwrite(new_dir + \"milanese.jpg\", img_gray)"
   ],
   "metadata": {
    "collapsed": false
   }
  },
  {
   "cell_type": "code",
   "execution_count": 15,
   "outputs": [],
   "source": [
    "old_dir = 'Original Images/'\n",
    "new_dir = 'Compressed Images/'\n",
    "paths = ['persimmon_tomato_salad.jpg', 'easter_egg_bread.jpg', 'burger.jpg', 'granita.jpg', 'pizzelle.jpg', 'pork_knuckle.jpg', 'cheese_board.jpg', 'chicken_n_beans.jpg', 'octopus.jpg', 'tea_eggs.jpg']\n",
    "for path in paths:\n",
    "    img = cv2.imread(old_dir + path, cv2.IMREAD_COLOR)\n",
    "\n",
    "    # Resize the image to 200x150 pixels\n",
    "    img_resized = cv2.resize(img, (200, 150), interpolation=cv2.INTER_AREA)\n",
    "\n",
    "    # Save the grayscale image as 'small_gray_dinner.png'\n",
    "    cv2.imwrite(new_dir + path[:-4] + \"_color\" + \".jpg\", img_resized)"
   ],
   "metadata": {
    "collapsed": false
   }
  },
  {
   "cell_type": "code",
   "execution_count": null,
   "outputs": [],
   "source": [
    "img_orig = load_im"
   ],
   "metadata": {
    "collapsed": false
   }
  },
  {
   "cell_type": "code",
   "execution_count": 1,
   "outputs": [],
   "source": [
    "paths = ['Compressed Images/cheese_board.jpg', 'Compressed Images/chicken_n_beans.jpg', 'Compressed Images/persimmon_tomato_salad.jpg', 'Compressed Images/octopus.jpg', 'Compressed Images/burger.jpg', 'Compressed Images/granita.jpg', 'Compressed Images/milanese.jpg', 'Compressed Images/pizzelle.jpg', 'Compressed Images/pork_knuckle.jpg', 'Compressed Images/tea_eggs.jpg']\n",
    "new_path = 'Reconstructed Images/easter_egg_bread'\n",
    "path = 'Compressed Images/easter_egg_bread.jpg'"
   ],
   "metadata": {
    "collapsed": false
   }
  },
  {
   "cell_type": "code",
   "execution_count": 2,
   "outputs": [
    {
     "data": {
      "text/plain": "10"
     },
     "execution_count": 2,
     "metadata": {},
     "output_type": "execute_result"
    }
   ],
   "source": [
    "len(paths)"
   ],
   "metadata": {
    "collapsed": false
   }
  },
  {
   "cell_type": "code",
   "execution_count": 10,
   "outputs": [
    {
     "name": "stdout",
     "output_type": "stream",
     "text": [
      "Original Images/cheese_board.jpg\n",
      "Original Images/chicken_n_beans.jpg\n",
      "Original Images/persimmon_tomato_salad.jpg\n",
      "Original Images/octopus.jpg\n",
      "Original Images/burger.jpg\n",
      "Original Images/granita.jpg\n",
      "Original Images/milanese.jpg\n",
      "Original Images/pizzelle.jpg\n",
      "Original Images/pork_knuckle.jpg\n",
      "Original Images/tea_eggs.jpg\n"
     ]
    }
   ],
   "source": [
    "for p in paths: print(\"Original Images/\"+ p[18:])"
   ],
   "metadata": {
    "collapsed": false
   }
  },
  {
   "cell_type": "code",
   "execution_count": 11,
   "outputs": [
    {
     "name": "stdout",
     "output_type": "stream",
     "text": [
      "Compressed Images Images/cheese_board_color.jpg\n",
      "Compressed Images Images/chicken_n_beans_color.jpg\n",
      "Compressed Images Images/persimmon_tomato_salad_color.jpg\n",
      "Compressed Images Images/octopus_color.jpg\n",
      "Compressed Images Images/burger_color.jpg\n",
      "Compressed Images Images/granita_color.jpg\n",
      "Compressed Images Images/milanese_color.jpg\n",
      "Compressed Images Images/pizzelle_color.jpg\n",
      "Compressed Images Images/pork_knuckle_color.jpg\n",
      "Compressed Images Images/tea_eggs_color.jpg\n"
     ]
    }
   ],
   "source": [
    "for p in paths: print(\"Compressed Images Images/\"+ p[18:-4] + \"_color.jpg\")"
   ],
   "metadata": {
    "collapsed": false
   }
  },
  {
   "cell_type": "code",
   "execution_count": 28,
   "outputs": [
    {
     "name": "stdout",
     "output_type": "stream",
     "text": [
      "Original Images/cheese_board.jpg\n",
      "Original Images/chicken_n_beans.jpg\n",
      "Original Images/persimmon_tomato_salad.jpg\n",
      "Original Images/octopus.jpg\n",
      "Original Images/burger.jpg\n",
      "Original Images/granita.jpg\n",
      "Original Images/pizzelle.jpg\n",
      "Original Images/pork_knuckle.jpg\n",
      "Original Images/tea_eggs.jpg\n"
     ]
    }
   ],
   "source": [
    "paths = ['Compressed Images/cheese_board.jpg', 'Compressed Images/chicken_n_beans.jpg', 'Compressed Images/persimmon_tomato_salad.jpg', 'Compressed Images/octopus.jpg', 'Compressed Images/burger.jpg', 'Compressed Images/granita.jpg', 'Compressed Images/pizzelle.jpg', 'Compressed Images/pork_knuckle.jpg', 'Compressed Images/tea_eggs.jpg']\n",
    "#new_color_paths = [\"Compressed Images/\"+ p[18:-4] + \"_color.jpg\" for p in paths ]\n",
    "original_paths = [\"Original Images/\"+ p[18:] for p in paths]\n",
    "\n",
    "for path in original_paths:\n",
    "    print(path)\n",
    "    img = cv2.imread(path, cv2.IMREAD_COLOR)\n",
    "\n",
    "    # Resize the image to 200x150 pixels\n",
    "    img_resized = cv2.resize(img, (200, 150), interpolation=cv2.INTER_AREA)\n",
    "\n",
    "    # Save the image\n",
    "    cv2.imwrite(\"Compressed Images/\"+ path[16:-4] + \"_color.jpg\", img_resized)"
   ],
   "metadata": {
    "collapsed": false
   }
  },
  {
   "cell_type": "code",
   "execution_count": 16,
   "outputs": [
    {
     "data": {
      "text/plain": "['Original Images/cheese_board.jpg',\n 'Original Images/chicken_n_beans.jpg',\n 'Original Images/persimmon_tomato_salad.jpg',\n 'Original Images/octopus.jpg',\n 'Original Images/burger.jpg',\n 'Original Images/granita.jpg',\n 'Original Images/milanese.jpg',\n 'Original Images/pizzelle.jpg',\n 'Original Images/pork_knuckle.jpg',\n 'Original Images/tea_eggs.jpg']"
     },
     "execution_count": 16,
     "metadata": {},
     "output_type": "execute_result"
    }
   ],
   "source": [
    "original_paths"
   ],
   "metadata": {
    "collapsed": false
   }
  },
  {
   "cell_type": "code",
   "execution_count": 21,
   "outputs": [
    {
     "data": {
      "text/plain": "['Compressed Images/cheese_board_color.jpg',\n 'Compressed Images/chicken_n_beans_color.jpg',\n 'Compressed Images/persimmon_tomato_salad_color.jpg',\n 'Compressed Images/octopus_color.jpg',\n 'Compressed Images/burger_color.jpg',\n 'Compressed Images/granita_color.jpg',\n 'Compressed Images/milanese_color.jpg',\n 'Compressed Images/pizzelle_color.jpg',\n 'Compressed Images/pork_knuckle_color.jpg',\n 'Compressed Images/tea_eggs_color.jpg']"
     },
     "execution_count": 21,
     "metadata": {},
     "output_type": "execute_result"
    }
   ],
   "source": [
    "new_color_paths = [\"Compressed Images/\"+ p[18:-4] + \"_color.jpg\" for p in paths ]\n",
    "new_color_paths"
   ],
   "metadata": {
    "collapsed": false
   }
  },
  {
   "cell_type": "code",
   "execution_count": 25,
   "outputs": [
    {
     "name": "stdout",
     "output_type": "stream",
     "text": [
      "Compressed Images/cheese_board_color.jpg\n",
      "Compressed Images/chicken_n_beans_color.jpg\n",
      "Compressed Images/persimmon_tomato_salad_color.jpg\n",
      "Compressed Images/octopus_color.jpg\n",
      "Compressed Images/burger_color.jpg\n",
      "Compressed Images/granita_color.jpg\n",
      "Compressed Images/milanese_color.jpg\n",
      "Compressed Images/pizzelle_color.jpg\n",
      "Compressed Images/pork_knuckle_color.jpg\n",
      "Compressed Images/tea_eggs_color.jpg\n"
     ]
    }
   ],
   "source": [
    "paths = ['Compressed Images/cheese_board.jpg', 'Compressed Images/chicken_n_beans.jpg', 'Compressed Images/persimmon_tomato_salad.jpg', 'Compressed Images/octopus.jpg', 'Compressed Images/burger.jpg', 'Compressed Images/granita.jpg', 'Compressed Images/milanese.jpg', 'Compressed Images/pizzelle.jpg', 'Compressed Images/pork_knuckle.jpg', 'Compressed Images/tea_eggs.jpg']\n",
    "#new_color_paths = [\"Compressed Images/\"+ p[18:-4] + \"_color.jpg\" for p in paths ]\n",
    "original_paths = [\"Original Images/\"+ p[18:] for p in paths]\n",
    "\n",
    "for path in original_paths:\n",
    "    print(\"Compressed Images/\"+ path[16:-4] + \"_color.jpg\")"
   ],
   "metadata": {
    "collapsed": false
   }
  },
  {
   "cell_type": "code",
   "execution_count": null,
   "outputs": [],
   "source": [],
   "metadata": {
    "collapsed": false
   }
  }
 ],
 "metadata": {
  "kernelspec": {
   "display_name": "Python 3",
   "language": "python",
   "name": "python3"
  },
  "language_info": {
   "codemirror_mode": {
    "name": "ipython",
    "version": 2
   },
   "file_extension": ".py",
   "mimetype": "text/x-python",
   "name": "python",
   "nbconvert_exporter": "python",
   "pygments_lexer": "ipython2",
   "version": "2.7.6"
  }
 },
 "nbformat": 4,
 "nbformat_minor": 0
}

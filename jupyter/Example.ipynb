{
 "cells": [
  {
   "cell_type": "markdown",
   "source": [
    "# Example\n",
    "\n",
    "Here is an example of how to use this tool.\n",
    "\n",
    "\n",
    "# Usage\n",
    "\n",
    "First you must train the dictionary. To do that, follow the following steps.\n",
    "\n",
    "#### Dictionary Training\n",
    "\n",
    "Have a parameters file saved as a .yaml file.\n",
    "You can edit these values as you see fit.\n",
    "You will be asked to enter the path to this fill after --training_parameters.\n",
    "```azure\n",
    "# This is the parameters.yaml file\n",
    "N : 300 # The batch size when random sampling your training data.\n",
    "K : 150 # Number of atoms in the dictionary.\n",
    "I : 10 # Number of iterations to run the k-SVD algorithm to train your dictionary. Values are typically between 0 and 20.\n",
    "L : 10 # Number of atoms to use in sparse coding. Inscreased values increase preformance at the cost of run time.\n",
    "Patch_Shape : [8,8] # This size of the patches in pixels. If the image has color, set it equal to [8,8,3].\n",
    "Partial : False # If False, you will get the full image reconstruction algorithm. If True, you will get the Stochastic Partial Image Reconstruction (SPIR) algorithm. This will take about 20% of the time as the full agorithm, be about 90-90% as accurate, but will most likely have dead pixels on the sides.\n",
    "```\n",
    "\n",
    "Have a image_paths.yaml file which contains the paths to the training images.\n",
    "You will be asked to enter the path to this file after --image_paths\n",
    "```azure\n",
    "# This is the image_paths.yaml file. It contains a list of all the paths that the training images will be pulled from.\n",
    "paths:\n",
    "    - Compressed Images/cheese_board.jpg\n",
    "    - octopus_test_image.jpg\n",
    "```\n",
    "\n",
    "Know the path you want you dictionary to end up at. This will be pickled,\n",
    "so it is suggested that the file path end in '.pkl'.\n",
    "You will be asked to enter this path after --output_dictionary_path\n",
    "\n",
    "Execute the code\n",
    "```azure\n",
    "train_dictionary.py --training_images image_paths.yaml --training_params params.yaml --output_dictionary_path test_dictionary.pkl\n",
    "```\n",
    "\n",
    "Your dictionary is now stored as a pickle file in the file path you entered.\n",
    "\n",
    "#### Image Reconstruction\n",
    "\n",
    "Recall the .pkl path that your dictionary is stored in. You can use the one you just\n",
    "created, or use a different one. You will be asked to enter this path after\n",
    "--input_dictionary_path\n",
    "\n",
    "Have a parameters.yaml file. This is the EXACT same file as before.\n",
    "You will be asked to enter the path to this fill after --reconstruction_parameters.\n",
    "\n",
    "```azure\n",
    "# This is the parameters.yaml file\n",
    "N : 300 # The batch size when random sampling your training data.\n",
    "K : 150 # Number of atoms in the dictionary.\n",
    "I : 10 # Number of iterations to run the k-SVD algorithm to train your dictionary. Values are typically between 0 and 20.\n",
    "L : 10 # Number of atoms to use in sparse coding. Inscreased values increase preformance at the cost of run time.\n",
    "Patch_Shape : [8,8] # This size of the patches in pixels. If the image has color, set it equal to [8,8,3].\n",
    "Partial : False # If False, you will get the full image reconstruction algorithm. If True, you will get the Stochastic Partial Image Reconstruction (SPIR) algorithm. This will take about 20% of the time as the full agorithm, be about 90-90% as accurate, but will most likely have dead pixels on the sides.\n",
    "```\n",
    "\n",
    "Know the path of the input image. This will be the image you want reconstructed.\n",
    "You will be asked to enter it after --input_image_path.\n",
    "\n",
    "Know the path where you want your reconstructed image to go.\n",
    "You will be asked to enter it after --output_image_path.\n",
    "\n",
    "Run the code\n",
    "```azure\n",
    "image_reconstruction.py --input_dictionary_path test_dictionary.pkl --reconstruction_params params.yaml --input_image_path small_gray_dinner.jpg --output_image_path test_image.jpg\n",
    "```\n"
   ],
   "metadata": {
    "collapsed": false
   }
  },
  {
   "cell_type": "code",
   "execution_count": 1,
   "outputs": [
    {
     "name": "stdout",
     "output_type": "stream",
     "text": [
      "Your training image paths are: ['Compressed Images/cheese_board.jpg', 'octopus_test_image.jpg']\n",
      "Your training parameters are: {'N': 300, 'K': 150, 'I': 10, 'L': 10, 'Patch_Shape': [8, 8], 'Partial': False}\n",
      "got sampler\n",
      "got learner\n",
      "  0%|          | 0/10 [00:00<?, ?it/s]\n",
      "learned the dictionary\n",
      "!!!!!!!!! DONE !!!!!!!!!\n"
     ]
    }
   ],
   "source": [
    "!python train_dictionary.py --training_images image_paths.yaml --training_params params.yaml --output_dictionary_path test_dictionary.pkl"
   ],
   "metadata": {
    "collapsed": false
   }
  },
  {
   "cell_type": "code",
   "execution_count": 2,
   "outputs": [
    {
     "name": "stdout",
     "output_type": "stream",
     "text": [
      "^C\n"
     ]
    }
   ],
   "source": [
    "!python image_reconstruction.py --input_dictionary_path test_dictionary.pkl --reconstruction_params params.yaml --input_image_path small_gray_dinner.jpg --output_image_path test_image.jpg"
   ],
   "metadata": {
    "collapsed": false
   }
  },
  {
   "cell_type": "code",
   "execution_count": null,
   "outputs": [],
   "source": [],
   "metadata": {
    "collapsed": false
   }
  }
 ],
 "metadata": {
  "kernelspec": {
   "display_name": "Python 3",
   "language": "python",
   "name": "python3"
  },
  "language_info": {
   "codemirror_mode": {
    "name": "ipython",
    "version": 2
   },
   "file_extension": ".py",
   "mimetype": "text/x-python",
   "name": "python",
   "nbconvert_exporter": "python",
   "pygments_lexer": "ipython2",
   "version": "2.7.6"
  }
 },
 "nbformat": 4,
 "nbformat_minor": 0
}
